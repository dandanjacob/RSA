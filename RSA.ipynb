{
 "cells": [
  {
   "cell_type": "markdown",
   "metadata": {},
   "source": [
    "## Trabalho da disciplina Algebra e Criptografia - Implementação do RSA"
   ]
  },
  {
   "cell_type": "markdown",
   "metadata": {},
   "source": [
    "#### O que é o RSA? \n",
    "\n",
    "O algoritmo RSA é um dos métodos de criptografia de chave pública mais conhecido e amplamente utilizado para transmissão segura de dados. Seu objetivo é proteger dados e garantir autenticidade em diversas aplicações, como comunicação segura e assinaturas digitais.\n",
    "\n",
    "Ele foi desenvolvido em 1977 por Ron Rivest, Adi Shamir e Leonard Adleman cujas iniciais formam o nome \"RSA\" que atuavam como pesquisadores do Massachusetts Institute of Technology (MIT).\n",
    "\n",
    "Tal método nos permite codificar uma mensagem utilizando o produto de dois números primos, e para decodificá-la é necessário conhecer estes primos, ou seja, decifrar a mensagem consiste em fatorar o número que é o produto dos primos usados na fase de codificação. Por isso, utilizar como chave de codificação números primos grandes faz com que a tarefa de decodificar a mensagem seja difícil e tenha alto custo computacional.\n"
   ]
  },
  {
   "cell_type": "markdown",
   "metadata": {},
   "source": [
    "### Como funciona o RSA?\n",
    "\n",
    "Ele utiliza um par de chaves: uma pública $(n,e)$ que é usada para criptografar e uma privada $(d)$ e é usada para descriptografar.\n",
    "\n",
    "1. São escolhidos dois primos grandes $p$ e $q$;\n",
    "2. Calculamos $ n = pq$, que será usado tanto na chave pública quanto na privada;\n",
    "3. Calculamos a função totiente de Euler $\\phi(n) = (p-1)(q-1)$;\n",
    "4. Escolhemos um inteiro com $2<e<\\phi(n)$ e $mdc(e, \\phi(n)) =1$, ou seja, $e$ e $\\phi(n)$ são coprimos;\n",
    "5. Dada uma mensagem $m$ com $0 \\leq m \\leq n-1$, a mensagem codificada é $c = m^e(mod(n))$;\n",
    "6. Calculamos $d$, que é o inverso multipicativo de $e \\mod(\\phi(n))$\n",
    "7. Para codificar é necessário calcular $c^d(mod(n))$.\n"
   ]
  },
  {
   "cell_type": "markdown",
   "metadata": {},
   "source": [
    "### Escolha dos números primos\n",
    "\n",
    "- função $number.getPrime()$: \n",
    "A função $getPrime$ é parte da biblioteca PyCryptodome, projetada para gerar números primos de forma eficiente e segura. Ela utiliza métodos baseados em testes probabilísticos, como o teste de Miller-Rabin, para produzir números primos com o número de bits especificado, garantindo sua adequação para aplicações criptográficas.\n",
    "Neste trabalho, os valores de $p$ e $q$ podem ser determinados condicionalmente. Se a opção for configurada como $True$, a função $getPrime$ é utilizada para gerar $p$ e $q$. Caso contrário ($False$), os valores de $p$ e $q$ devem ser fornecidos manualmente.\n",
    "\n",
    "- gerador de primos da Marcelli e do Falqueto: está por vir"
   ]
  },
  {
   "cell_type": "markdown",
   "metadata": {},
   "source": [
    "### Algoritmo Estendido de Euclides\n",
    "\n",
    "O algoritmo estendido de Euclides é uma extensão do algoritmo de Euclides que não só encontra o máximo divisor comum (MDC) mas também os coeficientes de Bézout, ou seja, $\\alpha\\ ,\\beta \\in \\mathbb{Z}$ tais que $\\alpha a + \\beta b = mdc(a,b) $.\n",
    "Por isso ele é usado em criptografia para verificar se dois números são coprimos e encontrar coeficientes $\\alpha$ e $\\beta$ que satisfazem $\\alpha a + \\beta b = 1$\n",
    "\n",
    "Ele funciona de forma iterativa e se baseia na fórmula do algoritmo de Euclides clássico incorporando $\\alpha$ e $\\beta$: \n",
    "\n",
    "$$ mdc(a,b) = mdc(b, a \\mod (b)).$$\n",
    "\n",
    "1. Se b=0, então:\n",
    "\n",
    "$$mdc(a,b) = a, \\alpha =1, \\beta = 0$$\n",
    "\n",
    "2. Caso contrário:\n",
    "   - Use a fórmula $\\text{MDC}(a, b) = \\text{MDC}(b, a \\mod b)$.\n",
    "   \n",
    "   - Resolva recursivamente $ b \\cdot \\alpha_1 + (a \\mod b) \\cdot \\beta_1 = \\text{MDC}(b, a \\mod b) $.\n",
    "\n",
    "   - Expanda $ a \\mod b $ usando $ a \\mod b = a - \\lfloor a / b \\rfloor \\cdot b $:\n",
    "     $$     a \\cdot \\beta_1 + b \\cdot (\\alpha_1 - \\lfloor a / b \\rfloor \\cdot \\beta_1) = \\text{MDC}(a, b)     $$\n",
    "\n",
    "\n",
    "   - Os novos coeficientes são:\n",
    "     $$\\alpha= \\beta_1, \\quad \\alpha = \\alpha_1 - \\lfloor a / b \\rfloor \\cdot \\beta_1    $$\n"
   ]
  }
 ],
 "metadata": {
  "language_info": {
   "name": "python"
  }
 },
 "nbformat": 4,
 "nbformat_minor": 2
}
